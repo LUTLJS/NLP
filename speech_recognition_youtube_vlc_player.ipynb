{
  "nbformat": 4,
  "nbformat_minor": 0,
  "metadata": {
    "colab": {
      "name": "speech-recognition-youtube-vlc-player.ipynb",
      "provenance": []
    },
    "kernelspec": {
      "name": "python3",
      "display_name": "Python 3"
    },
    "language_info": {
      "name": "python"
    }
  },
  "cells": [
    {
      "cell_type": "code",
      "source": [
        "!pip install SpeechRecognition"
      ],
      "metadata": {
        "colab": {
          "base_uri": "https://localhost:8080/"
        },
        "id": "ECtToob20Ncg",
        "outputId": "a9e7701f-2e26-4be0-d2f1-386066ac10ea"
      },
      "execution_count": 7,
      "outputs": [
        {
          "output_type": "stream",
          "name": "stdout",
          "text": [
            "Collecting SpeechRecognition\n",
            "  Downloading SpeechRecognition-3.8.1-py2.py3-none-any.whl (32.8 MB)\n",
            "\u001b[K     |████████████████████████████████| 32.8 MB 1.4 MB/s \n",
            "\u001b[?25hInstalling collected packages: SpeechRecognition\n",
            "Successfully installed SpeechRecognition-3.8.1\n"
          ]
        }
      ]
    },
    {
      "cell_type": "code",
      "execution_count": 8,
      "metadata": {
        "id": "lJztqZeBzgJv"
      },
      "outputs": [],
      "source": [
        "# Import Speech Recognition Package\n",
        "import speech_recognition as spr\n"
      ]
    },
    {
      "cell_type": "markdown",
      "source": [
        ""
      ],
      "metadata": {
        "id": "2G6yucofIC4Z"
      }
    },
    {
      "cell_type": "code",
      "source": [
        "# Validate the installation\n",
        "spr.__version__"
      ],
      "metadata": {
        "colab": {
          "base_uri": "https://localhost:8080/",
          "height": 35
        },
        "id": "m5EKdvMa1CNG",
        "outputId": "147c2c26-c34d-4f7c-eade-983b56cb64de"
      },
      "execution_count": 9,
      "outputs": [
        {
          "output_type": "execute_result",
          "data": {
            "application/vnd.google.colaboratory.intrinsic+json": {
              "type": "string"
            },
            "text/plain": [
              "'3.8.1'"
            ]
          },
          "metadata": {},
          "execution_count": 9
        }
      ]
    },
    {
      "cell_type": "code",
      "source": [
        "recog = spr.Recognizer()"
      ],
      "metadata": {
        "id": "UqtoxJOO1LcR"
      },
      "execution_count": 10,
      "outputs": []
    },
    {
      "cell_type": "code",
      "source": [
        "recog.recognize_google()"
      ],
      "metadata": {
        "colab": {
          "base_uri": "https://localhost:8080/",
          "height": 165
        },
        "id": "ohaNYni41SIb",
        "outputId": "0383a63d-d747-40fd-af0d-d3ecdd454015"
      },
      "execution_count": 11,
      "outputs": [
        {
          "output_type": "error",
          "ename": "TypeError",
          "evalue": "ignored",
          "traceback": [
            "\u001b[0;31m---------------------------------------------------------------------------\u001b[0m",
            "\u001b[0;31mTypeError\u001b[0m                                 Traceback (most recent call last)",
            "\u001b[0;32m<ipython-input-11-1ed056d75f58>\u001b[0m in \u001b[0;36m<module>\u001b[0;34m()\u001b[0m\n\u001b[0;32m----> 1\u001b[0;31m \u001b[0mrecog\u001b[0m\u001b[0;34m.\u001b[0m\u001b[0mrecognize_google\u001b[0m\u001b[0;34m(\u001b[0m\u001b[0;34m)\u001b[0m\u001b[0;34m\u001b[0m\u001b[0;34m\u001b[0m\u001b[0m\n\u001b[0m",
            "\u001b[0;31mTypeError\u001b[0m: recognize_google() missing 1 required positional argument: 'audio_data'"
          ]
        }
      ]
    },
    {
      "cell_type": "markdown",
      "source": [
        "# **Convert Speech to Text**"
      ],
      "metadata": {
        "id": "qOsYiIlc1cp8"
      }
    },
    {
      "cell_type": "code",
      "source": [
        "speech = spr.AudioFile('/content/drive/MyDrive/NLP/OSR_us_000_0010_8k.wav')\n",
        "with speech as filesource:\n",
        "    audio = recog.record(filesource)\n"
      ],
      "metadata": {
        "id": "_DIjXQRN1rD8"
      },
      "execution_count": 13,
      "outputs": []
    },
    {
      "cell_type": "code",
      "source": [
        "recog.recognize_google(audio)"
      ],
      "metadata": {
        "colab": {
          "base_uri": "https://localhost:8080/",
          "height": 70
        },
        "id": "w2S1Uj7K55ar",
        "outputId": "23b351a1-b61d-494c-f89b-94b2be6de11c"
      },
      "execution_count": 14,
      "outputs": [
        {
          "output_type": "execute_result",
          "data": {
            "application/vnd.google.colaboratory.intrinsic+json": {
              "type": "string"
            },
            "text/plain": [
              "\"Birch canoe slid on the smooth plank glue the sea to a dark blue background it is easy to tell the depth of the well these days a chicken leg of a variegated price is often served in Randall's the juice of lemons makes find the boxes on the side the pump truck the ha grimstead top corn and garbage for hours of City Works in a large size and stockings and hard to sell\""
            ]
          },
          "metadata": {},
          "execution_count": 14
        }
      ]
    },
    {
      "cell_type": "markdown",
      "source": [
        "# **Convert Speech to Text - Capture only particular segments of audio suing offset and duration**"
      ],
      "metadata": {
        "id": "HOSryp_L6Mru"
      }
    },
    {
      "cell_type": "code",
      "source": [
        "with speech as filesource:\n",
        "    audio = recog.record(filesource, duration = 5)\n",
        "recog.recognize_google(audio)"
      ],
      "metadata": {
        "colab": {
          "base_uri": "https://localhost:8080/",
          "height": 35
        },
        "id": "fQhTHikI1bxz",
        "outputId": "7f7ec487-5eb7-463e-e219-2f35500520c0"
      },
      "execution_count": 15,
      "outputs": [
        {
          "output_type": "execute_result",
          "data": {
            "application/vnd.google.colaboratory.intrinsic+json": {
              "type": "string"
            },
            "text/plain": [
              "'the Birch canoe slid on the smooth planks'"
            ]
          },
          "metadata": {},
          "execution_count": 15
        }
      ]
    },
    {
      "cell_type": "code",
      "source": [
        "# Capture multiple portions of speech one after another\n",
        "with speech as filesource:\n",
        "    audio_1 = recog.record(filesource, duration=5)\n",
        "    audio_2 = recog.record(filesource, duration=5)\n",
        "print(recog.recognize_google(audio_1))\n",
        "print(recog.recognize_google(audio_2))"
      ],
      "metadata": {
        "colab": {
          "base_uri": "https://localhost:8080/"
        },
        "id": "j4whO9N86vGU",
        "outputId": "edc0dcac-a2bc-4c26-e827-3f6036c472b5"
      },
      "execution_count": 18,
      "outputs": [
        {
          "output_type": "stream",
          "name": "stdout",
          "text": [
            "the Birch canoe slid on the smooth planks\n",
            "dog food background it is easy to tell the depth of a well\n"
          ]
        }
      ]
    },
    {
      "cell_type": "code",
      "source": [
        "# Capturing second portion of the speech using an offset argument\n",
        "with speech as filesource:\n",
        "    audio = recog.record(filesource, offset=5, duration=7)\n",
        "recog.recognize_google(audio)"
      ],
      "metadata": {
        "colab": {
          "base_uri": "https://localhost:8080/",
          "height": 35
        },
        "id": "wsVw8pY97evb",
        "outputId": "96041a72-1caf-400e-e74c-a25b070196b2"
      },
      "execution_count": 20,
      "outputs": [
        {
          "output_type": "execute_result",
          "data": {
            "application/vnd.google.colaboratory.intrinsic+json": {
              "type": "string"
            },
            "text/plain": [
              "'62 dog food background it is easy to tell the depth of the well'"
            ]
          },
          "metadata": {},
          "execution_count": 20
        }
      ]
    },
    {
      "cell_type": "markdown",
      "source": [
        "# **Convert Speech to Text - Effect of Noise**"
      ],
      "metadata": {
        "id": "YKT7Fayq8Dh-"
      }
    },
    {
      "cell_type": "code",
      "source": [
        "noisyspeech = spr.AudioFile('/content/drive/MyDrive/NLP/OSR_us_000_0010_8k.wav')\n",
        "\n",
        "with noisyspeech as noisesource:\n",
        "    audio = recog.record(noisesource)\n",
        "\n",
        "recog.recognize_google(audio)"
      ],
      "metadata": {
        "colab": {
          "base_uri": "https://localhost:8080/",
          "height": 70
        },
        "id": "vQCf7mxd8MTE",
        "outputId": "b6b7b811-7f17-405b-fe90-d2fce43e83b3"
      },
      "execution_count": 21,
      "outputs": [
        {
          "output_type": "execute_result",
          "data": {
            "application/vnd.google.colaboratory.intrinsic+json": {
              "type": "string"
            },
            "text/plain": [
              "\"Birch canoe slid on the smooth plank glue the sea to a dark blue background it is easy to tell the depth of the well these days a chicken leg of a variegated price is often served in Randall's the juice of lemons makes find the boxes on the side the pump truck the ha grimstead top corn and garbage for hours of City Works in a large size and stockings and hard to sell\""
            ]
          },
          "metadata": {},
          "execution_count": 21
        }
      ]
    },
    {
      "cell_type": "code",
      "source": [
        "with noisyspeech as noisesource:\n",
        "    recog.adjust_for_ambient_noise(noisesource)\n",
        "recog.recognize_google(audio)"
      ],
      "metadata": {
        "colab": {
          "base_uri": "https://localhost:8080/",
          "height": 70
        },
        "id": "uyb3bnlv8pY-",
        "outputId": "db9255d5-c46c-42ac-e433-8cb554edcec8"
      },
      "execution_count": 24,
      "outputs": [
        {
          "output_type": "execute_result",
          "data": {
            "application/vnd.google.colaboratory.intrinsic+json": {
              "type": "string"
            },
            "text/plain": [
              "\"Birch canoe slid on the smooth plank glue the sea to a dark blue background it is easy to tell the depth of the well these days a chicken leg of a variegated price is often served in Randall's the juice of lemons makes find the boxes on the side the pump truck the ha grimstead top corn and garbage for hours of City Works in a large size and stockings and hard to sell\""
            ]
          },
          "metadata": {},
          "execution_count": 24
        }
      ]
    },
    {
      "cell_type": "code",
      "source": [
        "recog.recognize_google(audio, show_all=True)"
      ],
      "metadata": {
        "colab": {
          "base_uri": "https://localhost:8080/"
        },
        "id": "VqCnQpGd9JmI",
        "outputId": "87315d83-2103-4936-d4de-d447776279c7"
      },
      "execution_count": 25,
      "outputs": [
        {
          "output_type": "execute_result",
          "data": {
            "text/plain": [
              "{'alternative': [{'confidence': 0.7867201,\n",
              "   'transcript': \"Birch canoe slid on the smooth plank glue the sea to a dark blue background it is easy to tell the depth of the well these days a chicken leg of a variegated price is often served in Randall's the juice of lemons makes find the boxes on the side the pump truck the ha grimstead top corn and garbage for hours of City Works in a large size and stockings and hard to sell\"},\n",
              "  {'transcript': \"Birch canoe slid on the smooth plank glue the sea to a dark blue background it is easy to tell the depth of the well these day the chicken leg of a variegated price is often served in Randall's the juice of lemons makes find the boxes down beside the pump truck the ha grimstead top corn and garbage for hours of City Works in a large size and stockings and hard to sell\"},\n",
              "  {'transcript': 'Birch canoe slid on the smooth plank glue the sea to a dark blue background it is easy to tell the depth of the well these days a chicken leg of a variegated price is often served in roundels the juice of lemons makes find the boxes down beside the pump truck the ha grimstead top corn and garbage for hours of City Works in a large size and stockings and hard to sell'},\n",
              "  {'transcript': \"Birch canoe slid on the smooth plank glue the sea to a dark blue background it is easy to tell the depth of the well these days a chicken leg of a variegated price is often served in Randall's the juice of lemons makes find the boxes down beside the pump truck the ha grimstead top corn and garbage for hours of City Works in a large size and stockings and hard to sell\"},\n",
              "  {'transcript': \"Birch canoe slid on the smooth plank glue the sea to a dark blue background it is easy to tell the depth of the well these days a chicken leg of a variegated price is often served in Randall's the juice of lemons makes find the boxes down beside the pump truck the ha grimstead topcon and garbage for hours of City Works in a large size and stockings and hard to sell\"}],\n",
              " 'final': True}"
            ]
          },
          "metadata": {},
          "execution_count": 25
        }
      ]
    },
    {
      "cell_type": "markdown",
      "source": [
        "# **Convert Speech to Text in Real Time using Microphone**"
      ],
      "metadata": {
        "id": "duO0bDP89gVf"
      }
    },
    {
      "cell_type": "code",
      "source": [
        "!apt install libasound2-dev portaudio19-dev libportaudio2 libportaudiocpp0 ffmpeg"
      ],
      "metadata": {
        "colab": {
          "base_uri": "https://localhost:8080/"
        },
        "id": "JUGN-tGMGJaO",
        "outputId": "1116632e-73ab-4319-d115-82a5b64eb6de"
      },
      "execution_count": 36,
      "outputs": [
        {
          "output_type": "stream",
          "name": "stdout",
          "text": [
            "Reading package lists... Done\n",
            "Building dependency tree       \n",
            "Reading state information... Done\n",
            "libasound2-dev is already the newest version (1.1.3-5ubuntu0.6).\n",
            "ffmpeg is already the newest version (7:3.4.8-0ubuntu0.2).\n",
            "Suggested packages:\n",
            "  portaudio19-doc\n",
            "The following NEW packages will be installed:\n",
            "  libportaudio2 libportaudiocpp0 portaudio19-dev\n",
            "0 upgraded, 3 newly installed, 0 to remove and 37 not upgraded.\n",
            "Need to get 184 kB of archives.\n",
            "After this operation, 891 kB of additional disk space will be used.\n",
            "Get:1 http://archive.ubuntu.com/ubuntu bionic/universe amd64 libportaudio2 amd64 19.6.0-1 [64.6 kB]\n",
            "Get:2 http://archive.ubuntu.com/ubuntu bionic/universe amd64 libportaudiocpp0 amd64 19.6.0-1 [15.1 kB]\n",
            "Get:3 http://archive.ubuntu.com/ubuntu bionic/universe amd64 portaudio19-dev amd64 19.6.0-1 [104 kB]\n",
            "Fetched 184 kB in 1s (247 kB/s)\n",
            "Selecting previously unselected package libportaudio2:amd64.\n",
            "(Reading database ... 155222 files and directories currently installed.)\n",
            "Preparing to unpack .../libportaudio2_19.6.0-1_amd64.deb ...\n",
            "Unpacking libportaudio2:amd64 (19.6.0-1) ...\n",
            "Selecting previously unselected package libportaudiocpp0:amd64.\n",
            "Preparing to unpack .../libportaudiocpp0_19.6.0-1_amd64.deb ...\n",
            "Unpacking libportaudiocpp0:amd64 (19.6.0-1) ...\n",
            "Selecting previously unselected package portaudio19-dev:amd64.\n",
            "Preparing to unpack .../portaudio19-dev_19.6.0-1_amd64.deb ...\n",
            "Unpacking portaudio19-dev:amd64 (19.6.0-1) ...\n",
            "Setting up libportaudio2:amd64 (19.6.0-1) ...\n",
            "Setting up libportaudiocpp0:amd64 (19.6.0-1) ...\n",
            "Setting up portaudio19-dev:amd64 (19.6.0-1) ...\n",
            "Processing triggers for libc-bin (2.27-3ubuntu1.3) ...\n",
            "/sbin/ldconfig.real: /usr/local/lib/python3.7/dist-packages/ideep4py/lib/libmkldnn.so.0 is not a symbolic link\n",
            "\n"
          ]
        }
      ]
    },
    {
      "cell_type": "code",
      "source": [
        "pip install PyAudio"
      ],
      "metadata": {
        "colab": {
          "base_uri": "https://localhost:8080/"
        },
        "id": "M197Jwct9zJ8",
        "outputId": "40a986eb-0694-46f3-ce77-4625aa89e0a8"
      },
      "execution_count": 37,
      "outputs": [
        {
          "output_type": "stream",
          "name": "stdout",
          "text": [
            "Collecting PyAudio\n",
            "  Using cached PyAudio-0.2.11.tar.gz (37 kB)\n",
            "Building wheels for collected packages: PyAudio\n",
            "  Building wheel for PyAudio (setup.py) ... \u001b[?25l\u001b[?25hdone\n",
            "  Created wheel for PyAudio: filename=PyAudio-0.2.11-cp37-cp37m-linux_x86_64.whl size=52602 sha256=bd7191f5138a4879c16945f613a3116c4c69f2bd5cd8a47cd1bd92da7cd31734\n",
            "  Stored in directory: /root/.cache/pip/wheels/40/2e/4c/b71e7e96c861a46e6213bc6bb482b94dcf293a92c5e736c1ec\n",
            "Successfully built PyAudio\n",
            "Installing collected packages: PyAudio\n",
            "Successfully installed PyAudio-0.2.11\n"
          ]
        }
      ]
    },
    {
      "cell_type": "code",
      "source": [
        "# all imports\n",
        "from io import BytesIO\n",
        "from base64 import b64decode\n",
        "from google.colab import output\n",
        "from IPython.display import Javascript\n",
        "\n",
        "RECORD = \"\"\"\n",
        "const sleep  = time => new Promise(resolve => setTimeout(resolve, time))\n",
        "const b2text = blob => new Promise(resolve => {\n",
        "  const reader = new FileReader()\n",
        "  reader.onloadend = e => resolve(e.srcElement.result)\n",
        "  reader.readAsDataURL(blob)\n",
        "})\n",
        "var record = time => new Promise(async resolve => {\n",
        "  stream = await navigator.mediaDevices.getUserMedia({ audio: true })\n",
        "  recorder = new MediaRecorder(stream)\n",
        "  chunks = []\n",
        "  recorder.ondataavailable = e => chunks.push(e.data)\n",
        "  recorder.start()\n",
        "  await sleep(time)\n",
        "  recorder.onstop = async ()=>{\n",
        "    blob = new Blob(chunks)\n",
        "    text = await b2text(blob)\n",
        "    resolve(text)\n",
        "  }\n",
        "  recorder.stop()\n",
        "})\n",
        "\"\"\"\n",
        "\n",
        "def record(sec=3):\n",
        "  print(\"Speak Now...\")\n",
        "  display(Javascript(RECORD))\n",
        "  sec += 1\n",
        "  s = output.eval_js('record(%d)' % (sec*1000))\n",
        "  print(\"Done Recording !\")\n",
        "  b = b64decode(s.split(',')[1])\n",
        "  return b #byte stream"
      ],
      "metadata": {
        "id": "59q9Uw-aG4N1"
      },
      "execution_count": 39,
      "outputs": []
    },
    {
      "cell_type": "code",
      "source": [
        "audio = record(5)"
      ],
      "metadata": {
        "colab": {
          "base_uri": "https://localhost:8080/",
          "height": 52
        },
        "id": "QJvbqyY_HFZi",
        "outputId": "4137adb6-b01e-41b6-91c2-3927f559b696"
      },
      "execution_count": 40,
      "outputs": [
        {
          "output_type": "stream",
          "name": "stdout",
          "text": [
            "Speak Now...\n"
          ]
        },
        {
          "output_type": "display_data",
          "data": {
            "application/javascript": [
              "\n",
              "const sleep  = time => new Promise(resolve => setTimeout(resolve, time))\n",
              "const b2text = blob => new Promise(resolve => {\n",
              "  const reader = new FileReader()\n",
              "  reader.onloadend = e => resolve(e.srcElement.result)\n",
              "  reader.readAsDataURL(blob)\n",
              "})\n",
              "var record = time => new Promise(async resolve => {\n",
              "  stream = await navigator.mediaDevices.getUserMedia({ audio: true })\n",
              "  recorder = new MediaRecorder(stream)\n",
              "  chunks = []\n",
              "  recorder.ondataavailable = e => chunks.push(e.data)\n",
              "  recorder.start()\n",
              "  await sleep(time)\n",
              "  recorder.onstop = async ()=>{\n",
              "    blob = new Blob(chunks)\n",
              "    text = await b2text(blob)\n",
              "    resolve(text)\n",
              "  }\n",
              "  recorder.stop()\n",
              "})\n"
            ],
            "text/plain": [
              "<IPython.core.display.Javascript object>"
            ]
          },
          "metadata": {}
        },
        {
          "output_type": "stream",
          "name": "stdout",
          "text": [
            "Done Recording !\n"
          ]
        }
      ]
    },
    {
      "cell_type": "code",
      "source": [
        "type(audio)"
      ],
      "metadata": {
        "colab": {
          "base_uri": "https://localhost:8080/"
        },
        "id": "bRiVIQYhHQbT",
        "outputId": "09e62954-bd54-475a-e264-0501a0a2ac45"
      },
      "execution_count": 41,
      "outputs": [
        {
          "output_type": "execute_result",
          "data": {
            "text/plain": [
              "bytes"
            ]
          },
          "metadata": {},
          "execution_count": 41
        }
      ]
    },
    {
      "cell_type": "code",
      "source": [
        "import IPython.display as ipd\n",
        "ipd.display(ipd.Audio(audio))"
      ],
      "metadata": {
        "colab": {
          "base_uri": "https://localhost:8080/",
          "height": 75
        },
        "id": "dUstv8pRHTa6",
        "outputId": "09d9d97c-2fc4-45a5-be0d-22b35ce6a9fc"
      },
      "execution_count": 42,
      "outputs": [
        {
          "output_type": "display_data",
          "data": {
            "text/html": [
              "\n",
              "                <audio controls=\"controls\" >\n",
              "                    <source src=\"data:audio/wav;base64,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\" type=\"audio/wav\" />\n",
              "                    Your browser does not support the audio element.\n",
              "                </audio>\n",
              "              "
            ],
            "text/plain": [
              "<IPython.lib.display.Audio object>"
            ]
          },
          "metadata": {}
        }
      ]
    },
    {
      "cell_type": "code",
      "source": [
        "mc = spr.Microphone()"
      ],
      "metadata": {
        "colab": {
          "base_uri": "https://localhost:8080/",
          "height": 311
        },
        "id": "9WSDiJ4w9o9k",
        "outputId": "60a3a734-0879-4ab5-e765-5ffe308bd39d"
      },
      "execution_count": 43,
      "outputs": [
        {
          "output_type": "error",
          "ename": "OSError",
          "evalue": "ignored",
          "traceback": [
            "\u001b[0;31m---------------------------------------------------------------------------\u001b[0m",
            "\u001b[0;31mOSError\u001b[0m                                   Traceback (most recent call last)",
            "\u001b[0;32m<ipython-input-43-d272f5d7f39f>\u001b[0m in \u001b[0;36m<module>\u001b[0;34m()\u001b[0m\n\u001b[0;32m----> 1\u001b[0;31m \u001b[0mmc\u001b[0m \u001b[0;34m=\u001b[0m \u001b[0mspr\u001b[0m\u001b[0;34m.\u001b[0m\u001b[0mMicrophone\u001b[0m\u001b[0;34m(\u001b[0m\u001b[0;34m)\u001b[0m\u001b[0;34m\u001b[0m\u001b[0;34m\u001b[0m\u001b[0m\n\u001b[0m",
            "\u001b[0;32m/usr/local/lib/python3.7/dist-packages/speech_recognition/__init__.py\u001b[0m in \u001b[0;36m__init__\u001b[0;34m(self, device_index, sample_rate, chunk_size)\u001b[0m\n\u001b[1;32m     84\u001b[0m                 \u001b[0;32massert\u001b[0m \u001b[0;36m0\u001b[0m \u001b[0;34m<=\u001b[0m \u001b[0mdevice_index\u001b[0m \u001b[0;34m<\u001b[0m \u001b[0mcount\u001b[0m\u001b[0;34m,\u001b[0m \u001b[0;34m\"Device index out of range ({} devices available; device index should be between 0 and {} inclusive)\"\u001b[0m\u001b[0;34m.\u001b[0m\u001b[0mformat\u001b[0m\u001b[0;34m(\u001b[0m\u001b[0mcount\u001b[0m\u001b[0;34m,\u001b[0m \u001b[0mcount\u001b[0m \u001b[0;34m-\u001b[0m \u001b[0;36m1\u001b[0m\u001b[0;34m)\u001b[0m\u001b[0;34m\u001b[0m\u001b[0;34m\u001b[0m\u001b[0m\n\u001b[1;32m     85\u001b[0m             \u001b[0;32mif\u001b[0m \u001b[0msample_rate\u001b[0m \u001b[0;32mis\u001b[0m \u001b[0;32mNone\u001b[0m\u001b[0;34m:\u001b[0m  \u001b[0;31m# automatically set the sample rate to the hardware's default sample rate if not specified\u001b[0m\u001b[0;34m\u001b[0m\u001b[0;34m\u001b[0m\u001b[0m\n\u001b[0;32m---> 86\u001b[0;31m                 \u001b[0mdevice_info\u001b[0m \u001b[0;34m=\u001b[0m \u001b[0maudio\u001b[0m\u001b[0;34m.\u001b[0m\u001b[0mget_device_info_by_index\u001b[0m\u001b[0;34m(\u001b[0m\u001b[0mdevice_index\u001b[0m\u001b[0;34m)\u001b[0m \u001b[0;32mif\u001b[0m \u001b[0mdevice_index\u001b[0m \u001b[0;32mis\u001b[0m \u001b[0;32mnot\u001b[0m \u001b[0;32mNone\u001b[0m \u001b[0;32melse\u001b[0m \u001b[0maudio\u001b[0m\u001b[0;34m.\u001b[0m\u001b[0mget_default_input_device_info\u001b[0m\u001b[0;34m(\u001b[0m\u001b[0;34m)\u001b[0m\u001b[0;34m\u001b[0m\u001b[0;34m\u001b[0m\u001b[0m\n\u001b[0m\u001b[1;32m     87\u001b[0m                 \u001b[0;32massert\u001b[0m \u001b[0misinstance\u001b[0m\u001b[0;34m(\u001b[0m\u001b[0mdevice_info\u001b[0m\u001b[0;34m.\u001b[0m\u001b[0mget\u001b[0m\u001b[0;34m(\u001b[0m\u001b[0;34m\"defaultSampleRate\"\u001b[0m\u001b[0;34m)\u001b[0m\u001b[0;34m,\u001b[0m \u001b[0;34m(\u001b[0m\u001b[0mfloat\u001b[0m\u001b[0;34m,\u001b[0m \u001b[0mint\u001b[0m\u001b[0;34m)\u001b[0m\u001b[0;34m)\u001b[0m \u001b[0;32mand\u001b[0m \u001b[0mdevice_info\u001b[0m\u001b[0;34m[\u001b[0m\u001b[0;34m\"defaultSampleRate\"\u001b[0m\u001b[0;34m]\u001b[0m \u001b[0;34m>\u001b[0m \u001b[0;36m0\u001b[0m\u001b[0;34m,\u001b[0m \u001b[0;34m\"Invalid device info returned from PyAudio: {}\"\u001b[0m\u001b[0;34m.\u001b[0m\u001b[0mformat\u001b[0m\u001b[0;34m(\u001b[0m\u001b[0mdevice_info\u001b[0m\u001b[0;34m)\u001b[0m\u001b[0;34m\u001b[0m\u001b[0;34m\u001b[0m\u001b[0m\n\u001b[1;32m     88\u001b[0m                 \u001b[0msample_rate\u001b[0m \u001b[0;34m=\u001b[0m \u001b[0mint\u001b[0m\u001b[0;34m(\u001b[0m\u001b[0mdevice_info\u001b[0m\u001b[0;34m[\u001b[0m\u001b[0;34m\"defaultSampleRate\"\u001b[0m\u001b[0;34m]\u001b[0m\u001b[0;34m)\u001b[0m\u001b[0;34m\u001b[0m\u001b[0;34m\u001b[0m\u001b[0m\n",
            "\u001b[0;32m/usr/local/lib/python3.7/dist-packages/pyaudio.py\u001b[0m in \u001b[0;36mget_default_input_device_info\u001b[0;34m(self)\u001b[0m\n\u001b[1;32m    947\u001b[0m         \"\"\"\n\u001b[1;32m    948\u001b[0m \u001b[0;34m\u001b[0m\u001b[0m\n\u001b[0;32m--> 949\u001b[0;31m         \u001b[0mdevice_index\u001b[0m \u001b[0;34m=\u001b[0m \u001b[0mpa\u001b[0m\u001b[0;34m.\u001b[0m\u001b[0mget_default_input_device\u001b[0m\u001b[0;34m(\u001b[0m\u001b[0;34m)\u001b[0m\u001b[0;34m\u001b[0m\u001b[0;34m\u001b[0m\u001b[0m\n\u001b[0m\u001b[1;32m    950\u001b[0m         \u001b[0;32mreturn\u001b[0m \u001b[0mself\u001b[0m\u001b[0;34m.\u001b[0m\u001b[0mget_device_info_by_index\u001b[0m\u001b[0;34m(\u001b[0m\u001b[0mdevice_index\u001b[0m\u001b[0;34m)\u001b[0m\u001b[0;34m\u001b[0m\u001b[0;34m\u001b[0m\u001b[0m\n\u001b[1;32m    951\u001b[0m \u001b[0;34m\u001b[0m\u001b[0m\n",
            "\u001b[0;31mOSError\u001b[0m: No Default Input Device Available"
          ]
        }
      ]
    }
  ]
}