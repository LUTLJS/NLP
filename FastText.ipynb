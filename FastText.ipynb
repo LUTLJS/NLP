## Install FastText

!wget https://github.com/facebookresearch/fastText/archive/0.2.0.zip
!unzip 0.2.0.zip
%cd fastText-0.2.0
!make

## Make simple dataset

# 1 is positive, 0 is negative
f = open('train.txt', 'w')
f.write('__label__1 i like you\n')
f.write('__label__1 i admire him\n')
f.write('__label__1 he loves apple\n')
f.write('__label__0 Anna hates pearls\n')
f.write('__label__0 she does not like you\n')
f.write('__label__0 this is bad\n')
f.close()

f = open('test.txt', 'w')
f.write('sorry dislike you')
f.close()

# Training

!./fasttext supervised -input train.txt -output model -dim 2


# Predict

!cat test.txt
!./fasttext predict model.bin test.txt
