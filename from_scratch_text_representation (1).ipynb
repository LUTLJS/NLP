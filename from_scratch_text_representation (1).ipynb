{
  "nbformat": 4,
  "nbformat_minor": 0,
  "metadata": {
    "colab": {
      "name": "from-scratch-text-representation.ipynb",
      "provenance": [],
      "collapsed_sections": [
        "RGrwaPLPfScq",
        "GLLtl7nsoJbW",
        "KNLw7qqeddS6"
      ]
    },
    "kernelspec": {
      "name": "python3",
      "display_name": "Python 3"
    },
    "language_info": {
      "name": "python"
    }
  },
  "cells": [
    {
      "cell_type": "markdown",
      "source": [
        "# **Natural Language Processing From Scratch**\n",
        "## Text Representation\n",
        "\n",
        "\n",
        "\n",
        "\n"
      ],
      "metadata": {
        "id": "LvXWQjVyd4fT"
      }
    },
    {
      "cell_type": "markdown",
      "source": [
        "In this lesson we will see in some details how we can best represent text in our application. Let's start by importing the modules we will be using:"
      ],
      "metadata": {
        "id": "t99wEzl0eVOv"
      }
    },
    {
      "cell_type": "code",
      "execution_count": 1,
      "metadata": {
        "id": "hz7Mc-WddaGM"
      },
      "outputs": [],
      "source": [
        "import string\n",
        "from collections import Counter\n",
        "from pprint import pprint\n",
        "import gzip\n",
        "import matplotlib.pyplot as plt\n",
        "import numpy as np\n",
        "\n",
        "%matplotlib inline"
      ]
    },
    {
      "cell_type": "markdown",
      "source": [
        "We choose a well known nursery rhyme, that has the added distinction of having been the first audio ever recorded, to be the short snippet of text that we will ise in our examples:"
      ],
      "metadata": {
        "id": "Un0adwyXe1lb"
      }
    },
    {
      "cell_type": "code",
      "source": [
        "text = \"\"\"Mary had a little lamb, little lamb,\n",
        "    little lamb. Mary had a little lamb\n",
        "    whose fleece was white as snow.\n",
        "    And everywhere that Mary went\n",
        "    Mary went, Mary went. Everywhere\n",
        "    that Mary went,\n",
        "    The lamb was sure to go\"\"\""
      ],
      "metadata": {
        "id": "NpO32egufH8Q"
      },
      "execution_count": 2,
      "outputs": []
    },
    {
      "cell_type": "markdown",
      "source": [
        "# **Tokenization**\n",
        "The first step in any analysis is to tokenize the text. What this means is that we will extract all the individual words in the text. For the sake of simplicity, we will assume that our text is well formed and that our words are delimited either by white spece or punctuation characters."
      ],
      "metadata": {
        "id": "RGrwaPLPfScq"
      }
    },
    {
      "cell_type": "code",
      "source": [
        "def extract_words(text):\n",
        "    temp = text.split() # Split the text on whitespace\n",
        "    text_words = []\n",
        "\n",
        "    for word in temp:\n",
        "        # Remove any punctuation characters present in the beginning of the word\n",
        "        while word[0] in string.punctuation:\n",
        "            word = word[1:]\n",
        "        \n",
        "        # Remove any punctuation characters present in the end of the word\n",
        "        while word[-1] in string.punctuation:\n",
        "            word = word[:-1]\n",
        "        \n",
        "        # Append this word into our list of words.\n",
        "        text_words.append(word.lower())\n",
        "\n",
        "    return text_words\n",
        "\n",
        "        "
      ],
      "metadata": {
        "id": "X21BRSZCfx_a"
      },
      "execution_count": 3,
      "outputs": []
    },
    {
      "cell_type": "code",
      "source": [
        "text.split()"
      ],
      "metadata": {
        "id": "ckMD6UCXgYgq",
        "colab": {
          "base_uri": "https://localhost:8080/"
        },
        "outputId": "328e6ecc-dec1-44ad-d9ba-428b8ae2e678"
      },
      "execution_count": 4,
      "outputs": [
        {
          "output_type": "execute_result",
          "data": {
            "text/plain": [
              "['Mary',\n",
              " 'had',\n",
              " 'a',\n",
              " 'little',\n",
              " 'lamb,',\n",
              " 'little',\n",
              " 'lamb,',\n",
              " 'little',\n",
              " 'lamb.',\n",
              " 'Mary',\n",
              " 'had',\n",
              " 'a',\n",
              " 'little',\n",
              " 'lamb',\n",
              " 'whose',\n",
              " 'fleece',\n",
              " 'was',\n",
              " 'white',\n",
              " 'as',\n",
              " 'snow.',\n",
              " 'And',\n",
              " 'everywhere',\n",
              " 'that',\n",
              " 'Mary',\n",
              " 'went',\n",
              " 'Mary',\n",
              " 'went,',\n",
              " 'Mary',\n",
              " 'went.',\n",
              " 'Everywhere',\n",
              " 'that',\n",
              " 'Mary',\n",
              " 'went,',\n",
              " 'The',\n",
              " 'lamb',\n",
              " 'was',\n",
              " 'sure',\n",
              " 'to',\n",
              " 'go']"
            ]
          },
          "metadata": {},
          "execution_count": 4
        }
      ]
    },
    {
      "cell_type": "markdown",
      "source": [
        "After this step we now have our text represented as an array of individual, lowercase words."
      ],
      "metadata": {
        "id": "vYwcVgaphLGp"
      }
    },
    {
      "cell_type": "code",
      "source": [
        "text_words = extract_words(text)\n",
        "pprint(text_words)"
      ],
      "metadata": {
        "id": "nhA9NmHDhWrs",
        "colab": {
          "base_uri": "https://localhost:8080/"
        },
        "outputId": "4a856335-0845-4a7d-b5da-f1058c380df8"
      },
      "execution_count": 5,
      "outputs": [
        {
          "output_type": "stream",
          "name": "stdout",
          "text": [
            "['mary',\n",
            " 'had',\n",
            " 'a',\n",
            " 'little',\n",
            " 'lamb',\n",
            " 'little',\n",
            " 'lamb',\n",
            " 'little',\n",
            " 'lamb',\n",
            " 'mary',\n",
            " 'had',\n",
            " 'a',\n",
            " 'little',\n",
            " 'lamb',\n",
            " 'whose',\n",
            " 'fleece',\n",
            " 'was',\n",
            " 'white',\n",
            " 'as',\n",
            " 'snow',\n",
            " 'and',\n",
            " 'everywhere',\n",
            " 'that',\n",
            " 'mary',\n",
            " 'went',\n",
            " 'mary',\n",
            " 'went',\n",
            " 'mary',\n",
            " 'went',\n",
            " 'everywhere',\n",
            " 'that',\n",
            " 'mary',\n",
            " 'went',\n",
            " 'the',\n",
            " 'lamb',\n",
            " 'was',\n",
            " 'sure',\n",
            " 'to',\n",
            " 'go']\n"
          ]
        }
      ]
    },
    {
      "cell_type": "markdown",
      "source": [
        "This is a wasteful way to represent text. We can be much more efficient by representing each word by a number. "
      ],
      "metadata": {
        "id": "kH2QHBkPioPv"
      }
    },
    {
      "cell_type": "code",
      "source": [
        "word_dict = {}\n",
        "word_list = []\n",
        "vocabulary_size = 0\n",
        "text_tokens = []\n",
        "\n",
        "for word in text_words:\n",
        "    # If we are seeing this word for the first time, create an id for it and add it to our word dictionary\n",
        "    if word not in word_dict:\n",
        "        word_dict[word] = vocabulary_size\n",
        "        word_list.append(word)\n",
        "        vocabulary_size += 1\n",
        "\n",
        "    # Add the token corresponding to the current word to the tokenized text.\n",
        "    text_tokens.append(word_dict[word])"
      ],
      "metadata": {
        "id": "8UC7TyWgi5KB"
      },
      "execution_count": 6,
      "outputs": []
    },
    {
      "cell_type": "markdown",
      "source": [
        "When we were tokenizing our text, we also generated a dictionary **word_dict** that maps words to integers and a **word_list**  that maps each integer to the corresponding word. "
      ],
      "metadata": {
        "id": "TCYNbuPdkUrB"
      }
    },
    {
      "cell_type": "code",
      "source": [
        "pprint(word_list)\n",
        "pprint(word_dict)"
      ],
      "metadata": {
        "colab": {
          "base_uri": "https://localhost:8080/"
        },
        "id": "3nmMxN5gk7Ye",
        "outputId": "12faf303-53ce-4080-d268-fc3a65ab5449"
      },
      "execution_count": 7,
      "outputs": [
        {
          "output_type": "stream",
          "name": "stdout",
          "text": [
            "['mary',\n",
            " 'had',\n",
            " 'a',\n",
            " 'little',\n",
            " 'lamb',\n",
            " 'whose',\n",
            " 'fleece',\n",
            " 'was',\n",
            " 'white',\n",
            " 'as',\n",
            " 'snow',\n",
            " 'and',\n",
            " 'everywhere',\n",
            " 'that',\n",
            " 'went',\n",
            " 'the',\n",
            " 'sure',\n",
            " 'to',\n",
            " 'go']\n",
            "{'a': 2,\n",
            " 'and': 11,\n",
            " 'as': 9,\n",
            " 'everywhere': 12,\n",
            " 'fleece': 6,\n",
            " 'go': 18,\n",
            " 'had': 1,\n",
            " 'lamb': 4,\n",
            " 'little': 3,\n",
            " 'mary': 0,\n",
            " 'snow': 10,\n",
            " 'sure': 16,\n",
            " 'that': 13,\n",
            " 'the': 15,\n",
            " 'to': 17,\n",
            " 'was': 7,\n",
            " 'went': 14,\n",
            " 'white': 8,\n",
            " 'whose': 5}\n"
          ]
        }
      ]
    },
    {
      "cell_type": "markdown",
      "source": [
        "These two datastructures already proved their usefulness when we converted our text to a list of tokens."
      ],
      "metadata": {
        "id": "CD73KVMYmIUp"
      }
    },
    {
      "cell_type": "code",
      "source": [
        "print(text_tokens)"
      ],
      "metadata": {
        "colab": {
          "base_uri": "https://localhost:8080/"
        },
        "id": "cXhsuIpOmb8Y",
        "outputId": "dae27f1b-6bcf-4e3c-ab94-ecbab1b60ca8"
      },
      "execution_count": 8,
      "outputs": [
        {
          "output_type": "stream",
          "name": "stdout",
          "text": [
            "[0, 1, 2, 3, 4, 3, 4, 3, 4, 0, 1, 2, 3, 4, 5, 6, 7, 8, 9, 10, 11, 12, 13, 0, 14, 0, 14, 0, 14, 12, 13, 0, 14, 15, 4, 7, 16, 17, 18]\n"
          ]
        }
      ]
    },
    {
      "cell_type": "code",
      "source": [
        "word_dict"
      ],
      "metadata": {
        "colab": {
          "base_uri": "https://localhost:8080/"
        },
        "id": "CBaF8F6cpGLH",
        "outputId": "eb5656d5-eab7-4bbf-b25a-f645139fb6d1"
      },
      "execution_count": 9,
      "outputs": [
        {
          "output_type": "execute_result",
          "data": {
            "text/plain": [
              "{'a': 2,\n",
              " 'and': 11,\n",
              " 'as': 9,\n",
              " 'everywhere': 12,\n",
              " 'fleece': 6,\n",
              " 'go': 18,\n",
              " 'had': 1,\n",
              " 'lamb': 4,\n",
              " 'little': 3,\n",
              " 'mary': 0,\n",
              " 'snow': 10,\n",
              " 'sure': 16,\n",
              " 'that': 13,\n",
              " 'the': 15,\n",
              " 'to': 17,\n",
              " 'was': 7,\n",
              " 'went': 14,\n",
              " 'white': 8,\n",
              " 'whose': 5}"
            ]
          },
          "metadata": {},
          "execution_count": 9
        }
      ]
    },
    {
      "cell_type": "markdown",
      "source": [
        "Unfortunately, while this representation is convenient for memory reasons it has some severe limitations. Perhaps the most important of which is the fact that computers naturally assume that numbers can be operated on mathematically (by addition, subtraction, etc) in a way that doesn't match our understanding of words."
      ],
      "metadata": {
        "id": "VRqJv9z3nZHv"
      }
    },
    {
      "cell_type": "markdown",
      "source": [
        "# **One-hot encoding**\n",
        "One typical way of overcoming this difficulty is to represent each word by a one-hot encoded vector where every element is zero except the one corresponding to a specific word."
      ],
      "metadata": {
        "id": "GLLtl7nsoJbW"
      }
    },
    {
      "cell_type": "code",
      "source": [
        "def one_hot(word, word_dict):\n",
        "    # Generate a one-hot encoded vector corresponding to word\n",
        "    vector = np.zeros(len(word_dict))\n",
        "    vector[word_dict[word]] = 1\n",
        "    return vector"
      ],
      "metadata": {
        "id": "VbiFE8YGoli-"
      },
      "execution_count": 10,
      "outputs": []
    },
    {
      "cell_type": "code",
      "source": [
        "one_hot('mary', word_dict)"
      ],
      "metadata": {
        "colab": {
          "base_uri": "https://localhost:8080/"
        },
        "id": "jPlSQVNlpaYC",
        "outputId": "7b910390-8403-401e-fc07-7051d1ecf619"
      },
      "execution_count": 11,
      "outputs": [
        {
          "output_type": "execute_result",
          "data": {
            "text/plain": [
              "array([1., 0., 0., 0., 0., 0., 0., 0., 0., 0., 0., 0., 0., 0., 0., 0., 0.,\n",
              "       0., 0.])"
            ]
          },
          "metadata": {},
          "execution_count": 11
        }
      ]
    },
    {
      "cell_type": "markdown",
      "source": [
        "So, for example, the word 'fleece' would be represented by:"
      ],
      "metadata": {
        "id": "HwLua5d8p8tC"
      }
    },
    {
      "cell_type": "code",
      "source": [
        "fleece_hot = one_hot('fleece', word_dict)\n",
        "print(fleece_hot)"
      ],
      "metadata": {
        "colab": {
          "base_uri": "https://localhost:8080/"
        },
        "id": "-G9PQUh4qEYl",
        "outputId": "076fa840-9c1b-427d-b94a-2dde7424ceb4"
      },
      "execution_count": 12,
      "outputs": [
        {
          "output_type": "stream",
          "name": "stdout",
          "text": [
            "[0. 0. 0. 0. 0. 0. 1. 0. 0. 0. 0. 0. 0. 0. 0. 0. 0. 0. 0.]\n"
          ]
        }
      ]
    },
    {
      "cell_type": "markdown",
      "source": [
        "This vector has every element set to zero, except element 6, since:"
      ],
      "metadata": {
        "id": "rJKqx4Uaqwpy"
      }
    },
    {
      "cell_type": "code",
      "source": [
        "print(word_dict['fleece'])\n",
        "fleece_hot[6] == 1"
      ],
      "metadata": {
        "colab": {
          "base_uri": "https://localhost:8080/"
        },
        "id": "zM80kKLsq4OS",
        "outputId": "2ce1fecf-e3ff-4978-dca0-8db9a03e829b"
      },
      "execution_count": 13,
      "outputs": [
        {
          "output_type": "stream",
          "name": "stdout",
          "text": [
            "6\n"
          ]
        },
        {
          "output_type": "execute_result",
          "data": {
            "text/plain": [
              "True"
            ]
          },
          "metadata": {},
          "execution_count": 13
        }
      ]
    },
    {
      "cell_type": "markdown",
      "source": [
        "# **Bag of words**\n",
        "We can now use the one-hot encoded vector for each word to produce a vector representation of our original text, by simply adding up all the one-hot encoded vectors."
      ],
      "metadata": {
        "id": "KNLw7qqeddS6"
      }
    },
    {
      "cell_type": "code",
      "source": [
        "text_vector1 = np.zeros(vocabulary_size)\n",
        "\n",
        "for word in text_words:\n",
        "    hot_word = one_hot(word, word_dict)\n",
        "    text_vector1 += hot_word\n",
        "print(text_vector1)"
      ],
      "metadata": {
        "colab": {
          "base_uri": "https://localhost:8080/"
        },
        "id": "qjf_ejMjdwVb",
        "outputId": "90502c61-1834-4977-d6e7-97d6876d40d1"
      },
      "execution_count": 14,
      "outputs": [
        {
          "output_type": "stream",
          "name": "stdout",
          "text": [
            "[6. 2. 2. 4. 5. 1. 1. 2. 1. 1. 1. 1. 2. 2. 4. 1. 1. 1. 1.]\n"
          ]
        }
      ]
    },
    {
      "cell_type": "code",
      "source": [
        "print(text_vector1.shape)\n",
        "print(word_list)\n",
        "print(len(word_list))\n",
        "v = np.zeros(5)\n",
        "print(np.zeros(5))\n",
        "v2 = [0, 0,0,0,3]\n",
        "print([0, 0, 0, 0, 3])\n",
        "print(v + v2)"
      ],
      "metadata": {
        "colab": {
          "base_uri": "https://localhost:8080/"
        },
        "id": "McInTO5jeDDM",
        "outputId": "560587df-ebf7-49b3-ea67-f33947a6b42d"
      },
      "execution_count": 15,
      "outputs": [
        {
          "output_type": "stream",
          "name": "stdout",
          "text": [
            "(19,)\n",
            "['mary', 'had', 'a', 'little', 'lamb', 'whose', 'fleece', 'was', 'white', 'as', 'snow', 'and', 'everywhere', 'that', 'went', 'the', 'sure', 'to', 'go']\n",
            "19\n",
            "[0. 0. 0. 0. 0.]\n",
            "[0, 0, 0, 0, 3]\n",
            "[0. 0. 0. 0. 3.]\n"
          ]
        }
      ]
    },
    {
      "cell_type": "code",
      "source": [
        "len(text_words)\n",
        "print(text_words)"
      ],
      "metadata": {
        "colab": {
          "base_uri": "https://localhost:8080/"
        },
        "id": "cGNlWpsJepQh",
        "outputId": "f374724c-6632-4419-e2b2-5bd041e40f72"
      },
      "execution_count": 16,
      "outputs": [
        {
          "output_type": "stream",
          "name": "stdout",
          "text": [
            "['mary', 'had', 'a', 'little', 'lamb', 'little', 'lamb', 'little', 'lamb', 'mary', 'had', 'a', 'little', 'lamb', 'whose', 'fleece', 'was', 'white', 'as', 'snow', 'and', 'everywhere', 'that', 'mary', 'went', 'mary', 'went', 'mary', 'went', 'everywhere', 'that', 'mary', 'went', 'the', 'lamb', 'was', 'sure', 'to', 'go']\n"
          ]
        }
      ]
    },
    {
      "cell_type": "markdown",
      "source": [
        "In practice, we can also easily skip the encoding step at the word level by using the word_dict defined above:"
      ],
      "metadata": {
        "id": "IIk1ypk6gTEa"
      }
    },
    {
      "cell_type": "code",
      "source": [
        "text_vector = np.zeros(vocabulary_size)\n",
        "for word in text_words:\n",
        "    text_vector[word_dict[word]] += 1\n",
        "\n",
        "print(text_vector)"
      ],
      "metadata": {
        "colab": {
          "base_uri": "https://localhost:8080/"
        },
        "id": "WmZ5bQmeghpO",
        "outputId": "8a8ce656-4c94-48cb-e24f-5b2e4fb2da5c"
      },
      "execution_count": 17,
      "outputs": [
        {
          "output_type": "stream",
          "name": "stdout",
          "text": [
            "[6. 2. 2. 4. 5. 1. 1. 2. 1. 1. 1. 1. 2. 2. 4. 1. 1. 1. 1.]\n"
          ]
        }
      ]
    },
    {
      "cell_type": "markdown",
      "source": [
        "This is known as the bag of words representation of the textt. It should be noted that these vectors simply contains the number of times each word appears in our document, so we can easily tell that the word *mary* appears exactly 6 times in our little nursery rhyme."
      ],
      "metadata": {
        "id": "I-S-ztR1hUFv"
      }
    },
    {
      "cell_type": "code",
      "source": [
        "text_vector[word_dict['mary']]"
      ],
      "metadata": {
        "colab": {
          "base_uri": "https://localhost:8080/"
        },
        "id": "ji-fQiXwh8qX",
        "outputId": "b6a7f214-c62f-4a79-9a6d-e7cccfa6691b"
      },
      "execution_count": 18,
      "outputs": [
        {
          "output_type": "execute_result",
          "data": {
            "text/plain": [
              "6.0"
            ]
          },
          "metadata": {},
          "execution_count": 18
        }
      ]
    },
    {
      "cell_type": "markdown",
      "source": [
        "A more pythonic and efficient way of producing the same result is to use the standard *Counter* module:"
      ],
      "metadata": {
        "id": "FMx4PnLLiSQv"
      }
    },
    {
      "cell_type": "code",
      "source": [
        "word_counts = Counter(text_words)\n",
        "pprint(word_counts)"
      ],
      "metadata": {
        "colab": {
          "base_uri": "https://localhost:8080/"
        },
        "id": "-sShTb80ixBu",
        "outputId": "b06c32a2-603e-46a5-d2e8-20383fe076c3"
      },
      "execution_count": 19,
      "outputs": [
        {
          "output_type": "stream",
          "name": "stdout",
          "text": [
            "Counter({'mary': 6,\n",
            "         'lamb': 5,\n",
            "         'little': 4,\n",
            "         'went': 4,\n",
            "         'had': 2,\n",
            "         'a': 2,\n",
            "         'was': 2,\n",
            "         'everywhere': 2,\n",
            "         'that': 2,\n",
            "         'whose': 1,\n",
            "         'fleece': 1,\n",
            "         'white': 1,\n",
            "         'as': 1,\n",
            "         'snow': 1,\n",
            "         'and': 1,\n",
            "         'the': 1,\n",
            "         'sure': 1,\n",
            "         'to': 1,\n",
            "         'go': 1})\n"
          ]
        }
      ]
    },
    {
      "cell_type": "markdown",
      "source": [
        "From which we can easily generate the text_vector and word_dict data structures:"
      ],
      "metadata": {
        "id": "xH8KVV6LjARh"
      }
    },
    {
      "cell_type": "code",
      "source": [
        "items = list(word_counts.items())\n",
        "# Extract word dictionary and vector representation\n",
        "word_dict2 = dict([[items[i][0], i] for i in range(len(items))])\n",
        "text_vector2 = [items[i][1] for i in range(len(items))]"
      ],
      "metadata": {
        "id": "jBWPABn7jL_5"
      },
      "execution_count": 20,
      "outputs": []
    },
    {
      "cell_type": "code",
      "source": [
        "type(items[0])\n",
        "print(items[0])\n",
        "print(items[0][0])\n",
        "print(text_vector2)\n",
        "print(word_dict2)\n",
        "print(text_vector)\n",
        "print(word_dict)"
      ],
      "metadata": {
        "colab": {
          "base_uri": "https://localhost:8080/"
        },
        "id": "EB5DbC1AkAC0",
        "outputId": "f48c0b60-bb74-4001-bf4d-f6f24ff5a6b6"
      },
      "execution_count": 21,
      "outputs": [
        {
          "output_type": "stream",
          "name": "stdout",
          "text": [
            "('mary', 6)\n",
            "mary\n",
            "[6, 2, 2, 4, 5, 1, 1, 2, 1, 1, 1, 1, 2, 2, 4, 1, 1, 1, 1]\n",
            "{'mary': 0, 'had': 1, 'a': 2, 'little': 3, 'lamb': 4, 'whose': 5, 'fleece': 6, 'was': 7, 'white': 8, 'as': 9, 'snow': 10, 'and': 11, 'everywhere': 12, 'that': 13, 'went': 14, 'the': 15, 'sure': 16, 'to': 17, 'go': 18}\n",
            "[6. 2. 2. 4. 5. 1. 1. 2. 1. 1. 1. 1. 2. 2. 4. 1. 1. 1. 1.]\n",
            "{'mary': 0, 'had': 1, 'a': 2, 'little': 3, 'lamb': 4, 'whose': 5, 'fleece': 6, 'was': 7, 'white': 8, 'as': 9, 'snow': 10, 'and': 11, 'everywhere': 12, 'that': 13, 'went': 14, 'the': 15, 'sure': 16, 'to': 17, 'go': 18}\n"
          ]
        }
      ]
    },
    {
      "cell_type": "code",
      "source": [
        "for word in word_dict.keys():\n",
        "    if text_vector[word_dict[word]] != text_vector2[word_dict2[word]]:\n",
        "        print('Error!')"
      ],
      "metadata": {
        "id": "pyVQixBGlK7b"
      },
      "execution_count": 22,
      "outputs": []
    },
    {
      "cell_type": "markdown",
      "source": [
        "# **Term Frequency**"
      ],
      "metadata": {
        "id": "70a1MKAOiNwc"
      }
    },
    {
      "cell_type": "code",
      "source": [
        "items"
      ],
      "metadata": {
        "colab": {
          "base_uri": "https://localhost:8080/"
        },
        "id": "t_xM74_mjbDc",
        "outputId": "c3b50b09-f650-470e-c9b9-3ebf51e55f69"
      },
      "execution_count": 23,
      "outputs": [
        {
          "output_type": "execute_result",
          "data": {
            "text/plain": [
              "[('mary', 6),\n",
              " ('had', 2),\n",
              " ('a', 2),\n",
              " ('little', 4),\n",
              " ('lamb', 5),\n",
              " ('whose', 1),\n",
              " ('fleece', 1),\n",
              " ('was', 2),\n",
              " ('white', 1),\n",
              " ('as', 1),\n",
              " ('snow', 1),\n",
              " ('and', 1),\n",
              " ('everywhere', 2),\n",
              " ('that', 2),\n",
              " ('went', 4),\n",
              " ('the', 1),\n",
              " ('sure', 1),\n",
              " ('to', 1),\n",
              " ('go', 1)]"
            ]
          },
          "metadata": {},
          "execution_count": 23
        }
      ]
    },
    {
      "cell_type": "markdown",
      "source": [
        "Intuitively, we expect the frequency with which a given word is mentioned should correspond to the relevance of that word for the piece of text we are considering. 'mary' is a pretty important word in our little nursery rhyme and indeed it is the one that that occurs the most often:"
      ],
      "metadata": {
        "id": "jfd9e3iXjw_Y"
      }
    },
    {
      "cell_type": "code",
      "source": [
        "sorted(items, key=lambda x: x[1], reverse=True)"
      ],
      "metadata": {
        "colab": {
          "base_uri": "https://localhost:8080/"
        },
        "id": "2lpe1r1yjeKd",
        "outputId": "757b4beb-1c16-4a1a-aa24-19dd771200ae"
      },
      "execution_count": 24,
      "outputs": [
        {
          "output_type": "execute_result",
          "data": {
            "text/plain": [
              "[('mary', 6),\n",
              " ('lamb', 5),\n",
              " ('little', 4),\n",
              " ('went', 4),\n",
              " ('had', 2),\n",
              " ('a', 2),\n",
              " ('was', 2),\n",
              " ('everywhere', 2),\n",
              " ('that', 2),\n",
              " ('whose', 1),\n",
              " ('fleece', 1),\n",
              " ('white', 1),\n",
              " ('as', 1),\n",
              " ('snow', 1),\n",
              " ('and', 1),\n",
              " ('the', 1),\n",
              " ('sure', 1),\n",
              " ('to', 1),\n",
              " ('go', 1)]"
            ]
          },
          "metadata": {},
          "execution_count": 24
        }
      ]
    },
    {
      "cell_type": "code",
      "source": [
        "data = []\n",
        "\n",
        "for line in gzip.open('/content/drive/MyDrive/NLP/text8.gz', 'rt'):\n",
        "    data.extend(line.strip().split())"
      ],
      "metadata": {
        "id": "0E-V8SRsVANW"
      },
      "execution_count": 25,
      "outputs": []
    },
    {
      "cell_type": "code",
      "source": [
        "print(len(data))\n",
        "print(data[0])\n",
        "print(type(data))\n",
        "print(data[:10])\n",
        "dir(data)\n",
        "print(data.index('anarchism'))"
      ],
      "metadata": {
        "colab": {
          "base_uri": "https://localhost:8080/"
        },
        "id": "0omtYqfAVUYV",
        "outputId": "7bd18f18-d0eb-47e9-9d22-c37910625160"
      },
      "execution_count": 26,
      "outputs": [
        {
          "output_type": "stream",
          "name": "stdout",
          "text": [
            "17005207\n",
            "anarchism\n",
            "<class 'list'>\n",
            "['anarchism', 'originated', 'as', 'a', 'term', 'of', 'abuse', 'first', 'used', 'against']\n",
            "0\n"
          ]
        }
      ]
    },
    {
      "cell_type": "code",
      "source": [
        "\n",
        "counts = Counter(data)\n",
        "\n",
        "sorted_counts = sorted(list(counts.items()), key=lambda x: x[1], reverse=True)\n",
        "\n",
        "for word, count in sorted_counts[:10]:\n",
        "    print(word, count)"
      ],
      "metadata": {
        "colab": {
          "base_uri": "https://localhost:8080/"
        },
        "id": "KCN5ty0FWoti",
        "outputId": "05bc99f4-24bc-4756-9a1a-a355a452ebbb"
      },
      "execution_count": 27,
      "outputs": [
        {
          "output_type": "stream",
          "name": "stdout",
          "text": [
            "the 1061396\n",
            "of 593677\n",
            "and 416629\n",
            "one 411764\n",
            "in 372201\n",
            "a 325873\n",
            "to 316376\n",
            "zero 264975\n",
            "nine 250430\n",
            "two 192644\n"
          ]
        }
      ]
    },
    {
      "cell_type": "code",
      "source": [
        "print(counts.most_common(19))"
      ],
      "metadata": {
        "colab": {
          "base_uri": "https://localhost:8080/"
        },
        "id": "2uM0peUPZquC",
        "outputId": "077c4a17-8a2d-45eb-85ba-d79016d49e3c"
      },
      "execution_count": 28,
      "outputs": [
        {
          "output_type": "stream",
          "name": "stdout",
          "text": [
            "[('the', 1061396), ('of', 593677), ('and', 416629), ('one', 411764), ('in', 372201), ('a', 325873), ('to', 316376), ('zero', 264975), ('nine', 250430), ('two', 192644), ('is', 183153), ('as', 131815), ('eight', 125285), ('for', 118445), ('s', 116710), ('five', 115789), ('three', 114775), ('was', 112807), ('by', 111831)]\n"
          ]
        }
      ]
    },
    {
      "cell_type": "code",
      "source": [
        "print(len(counts))\n",
        "print(type(counts))\n",
        "print(counts.values().__len__())"
      ],
      "metadata": {
        "colab": {
          "base_uri": "https://localhost:8080/"
        },
        "id": "cfEpjZSfW-rI",
        "outputId": "72f7725d-ab7f-4aaa-cc62-8bb2338c46d7"
      },
      "execution_count": 29,
      "outputs": [
        {
          "output_type": "stream",
          "name": "stdout",
          "text": [
            "253854\n",
            "<class 'collections.Counter'>\n",
            "253854\n"
          ]
        }
      ]
    },
    {
      "cell_type": "code",
      "source": [
        "# Grouping words with same frequency\n",
        "dist = Counter(counts.values())\n",
        "print(type(dist))\n",
        "dist = list(dist.items())\n",
        "dist.sort(key=lambda x: x[0])\n",
        "\n",
        "dist = np.array(dist)\n",
        "print(type(dist))\n",
        "print(type(dist.T))\n",
        "print(type(dist.T[0]))\n",
        "print(type(dist.T))\n",
        "norm = np.dot(dist.T[0], dist.T[1])\n",
        "print(type(norm))\n",
        "\n",
        "plt.loglog(dist.T[0], dist.T[1]/norm)\n",
        "plt.xlabel('count')\n",
        "plt.ylabel('P(count)')\n",
        "plt.title('Word frequency distribution')"
      ],
      "metadata": {
        "id": "G86RUev_aDis",
        "colab": {
          "base_uri": "https://localhost:8080/",
          "height": 421
        },
        "outputId": "31727ef6-4aec-4cfd-ac44-b61bec797d73"
      },
      "execution_count": 52,
      "outputs": [
        {
          "output_type": "stream",
          "name": "stdout",
          "text": [
            "<class 'collections.Counter'>\n",
            "<class 'numpy.ndarray'>\n",
            "<class 'numpy.ndarray'>\n",
            "<class 'numpy.ndarray'>\n",
            "<class 'numpy.ndarray'>\n",
            "<class 'numpy.int64'>\n"
          ]
        },
        {
          "output_type": "execute_result",
          "data": {
            "text/plain": [
              "Text(0.5, 1.0, 'Word frequency distribution')"
            ]
          },
          "metadata": {},
          "execution_count": 52
        },
        {
          "output_type": "display_data",
          "data": {
            "image/png": "[encoded data removed]",
            "text/plain": [
              "<Figure size 432x288 with 1 Axes>"
            ]
          },
          "metadata": {
            "needs_background": "light"
          }
        }
      ]
    },
    {
      "cell_type": "code",
      "source": [
        "print(len(counts.values()))\n",
        "# print(counts.values())\n",
        "# print(type(counts.keys()))\n",
        "print(type(counts.keys()))\n",
        "print(type(counts))\n",
        "print(type(counts.items()))"
      ],
      "metadata": {
        "colab": {
          "base_uri": "https://localhost:8080/"
        },
        "id": "lqR1sjsytJYU",
        "outputId": "63dad180-a399-4853-8eb7-ffd8774e0726"
      },
      "execution_count": 41,
      "outputs": [
        {
          "output_type": "stream",
          "name": "stdout",
          "text": [
            "253854\n",
            "<class 'dict_keys'>\n",
            "<class 'collections.Counter'>\n",
            "<class 'dict_items'>\n"
          ]
        }
      ]
    },
    {
      "cell_type": "code",
      "source": [
        "stopwords = set([word for word, count in sorted_counts[:100]])\n",
        "\n",
        "clean_data = []\n",
        "\n",
        "for word in data:\n",
        "    if word not in stopwords:\n",
        "        clean_data.append(word)\n",
        "\n",
        "print(f'Original size: {len(data)}')\n",
        "print(f'clean size: {len(clean_data)}')\n",
        "print(f'Reduction: {1-len(clean_data)/len(data)}')"
      ],
      "metadata": {
        "colab": {
          "base_uri": "https://localhost:8080/"
        },
        "id": "wun9xSOOvm7k",
        "outputId": "7d09d665-2d5f-42e9-87d2-4c9e5117958c"
      },
      "execution_count": 53,
      "outputs": [
        {
          "output_type": "stream",
          "name": "stdout",
          "text": [
            "Original size: 17005207\n",
            "clean size: 9006229\n",
            "Reduction: 0.470384041782026\n"
          ]
        }
      ]
    },
    {
      "cell_type": "code",
      "source": [
        "# words that appear across multiple documents\n",
        "print(type(text), len(text))\n",
        "print(text)\n",
        "corpus_text = text.split('.')\n",
        "print(corpus_text)\n",
        "print(type(corpus_text))\n",
        "print(len(corpus_text))\n",
        "corpus_words = []\n",
        "\n",
        "for document in corpus_text:\n",
        "    doc_words = extract_words(document)\n",
        "    corpus_words.append(doc_words)\n",
        "\n",
        "print(corpus_words)"
      ],
      "metadata": {
        "colab": {
          "base_uri": "https://localhost:8080/"
        },
        "id": "nHVXpMGpwW22",
        "outputId": "3ce42790-5592-4fed-da78-3254322eb360"
      },
      "execution_count": 59,
      "outputs": [
        {
          "output_type": "stream",
          "name": "stdout",
          "text": [
            "<class 'str'> 231\n",
            "Mary had a little lamb, little lamb,\n",
            "    little lamb. Mary had a little lamb\n",
            "    whose fleece was white as snow.\n",
            "    And everywhere that Mary went\n",
            "    Mary went, Mary went. Everywhere\n",
            "    that Mary went,\n",
            "    The lamb was sure to go\n",
            "['Mary had a little lamb, little lamb,\\n    little lamb', ' Mary had a little lamb\\n    whose fleece was white as snow', '\\n    And everywhere that Mary went\\n    Mary went, Mary went', ' Everywhere\\n    that Mary went,\\n    The lamb was sure to go']\n",
            "<class 'list'>\n",
            "4\n",
            "[['mary', 'had', 'a', 'little', 'lamb', 'little', 'lamb', 'little', 'lamb'], ['mary', 'had', 'a', 'little', 'lamb', 'whose', 'fleece', 'was', 'white', 'as', 'snow'], ['and', 'everywhere', 'that', 'mary', 'went', 'mary', 'went', 'mary', 'went'], ['everywhere', 'that', 'mary', 'went', 'the', 'lamb', 'was', 'sure', 'to', 'go']]\n"
          ]
        }
      ]
    },
    {
      "cell_type": "code",
      "source": [
        "pprint(corpus_words)"
      ],
      "metadata": {
        "colab": {
          "base_uri": "https://localhost:8080/"
        },
        "id": "Faa2AtP8yjcs",
        "outputId": "59057b82-2afe-43ee-a1db-e4ec06642c5e"
      },
      "execution_count": 60,
      "outputs": [
        {
          "output_type": "stream",
          "name": "stdout",
          "text": [
            "[['mary', 'had', 'a', 'little', 'lamb', 'little', 'lamb', 'little', 'lamb'],\n",
            " ['mary',\n",
            "  'had',\n",
            "  'a',\n",
            "  'little',\n",
            "  'lamb',\n",
            "  'whose',\n",
            "  'fleece',\n",
            "  'was',\n",
            "  'white',\n",
            "  'as',\n",
            "  'snow'],\n",
            " ['and', 'everywhere', 'that', 'mary', 'went', 'mary', 'went', 'mary', 'went'],\n",
            " ['everywhere',\n",
            "  'that',\n",
            "  'mary',\n",
            "  'went',\n",
            "  'the',\n",
            "  'lamb',\n",
            "  'was',\n",
            "  'sure',\n",
            "  'to',\n",
            "  'go']]\n"
          ]
        }
      ]
    },
    {
      "cell_type": "code",
      "source": [
        "# word that appears in documents\n",
        "document_count = {}\n",
        "\n",
        "for document in corpus_words:\n",
        "    word_set = set(document)\n",
        "\n",
        "    for word in word_set:\n",
        "        document_count[word] = document_count.get(word, 0) + 1\n",
        "pprint(document_count)\n",
        "\n",
        "# pprint(sorted(document_count, key=lambda x: x[0], reverse=False))"
      ],
      "metadata": {
        "colab": {
          "base_uri": "https://localhost:8080/"
        },
        "id": "BHJH6aJOytOb",
        "outputId": "d1bfaadc-829e-4ece-83a1-04f8b93a9325"
      },
      "execution_count": 63,
      "outputs": [
        {
          "output_type": "stream",
          "name": "stdout",
          "text": [
            "{'a': 2,\n",
            " 'and': 1,\n",
            " 'as': 1,\n",
            " 'everywhere': 2,\n",
            " 'fleece': 1,\n",
            " 'go': 1,\n",
            " 'had': 2,\n",
            " 'lamb': 3,\n",
            " 'little': 2,\n",
            " 'mary': 4,\n",
            " 'snow': 1,\n",
            " 'sure': 1,\n",
            " 'that': 2,\n",
            " 'the': 1,\n",
            " 'to': 1,\n",
            " 'was': 2,\n",
            " 'went': 2,\n",
            " 'white': 1,\n",
            " 'whose': 1}\n",
            "['a',\n",
            " 'as',\n",
            " 'and',\n",
            " 'everywhere',\n",
            " 'fleece',\n",
            " 'go',\n",
            " 'had',\n",
            " 'little',\n",
            " 'lamb',\n",
            " 'mary',\n",
            " 'snow',\n",
            " 'sure',\n",
            " 'that',\n",
            " 'the',\n",
            " 'to',\n",
            " 'whose',\n",
            " 'was',\n",
            " 'white',\n",
            " 'went']\n"
          ]
        }
      ]
    },
    {
      "cell_type": "code",
      "source": [
        "def inv_doc_freq(corpus_words):\n",
        "    number_docs = len(corpus_words)\n",
        "    print(type(corpus_words))\n",
        "\n",
        "    document_count = {}\n",
        "\n",
        "    for document in corpus_words:\n",
        "        word_set = set(document)\n",
        "\n",
        "        for word in word_set:\n",
        "            document_count[word] = document_count.get(word, 0) + 1\n",
        "\n",
        "    IDF = {}\n",
        "\n",
        "    for word in document_count:\n",
        "        IDF[word] = np.log(number_docs / document_count[word])\n",
        "\n",
        "    return IDF"
      ],
      "metadata": {
        "id": "3xaqGjKn0EH9"
      },
      "execution_count": 64,
      "outputs": []
    },
    {
      "cell_type": "code",
      "source": [
        "IDF = inv_doc_freq(corpus_words)\n",
        "pprint(IDF)\n",
        "# pprint(sorted(IDF, key=lambda x: x[0], reverse=False))"
      ],
      "metadata": {
        "colab": {
          "base_uri": "https://localhost:8080/"
        },
        "id": "eQQzs4MN0-dT",
        "outputId": "174bb850-986a-474a-eb6f-c088e4206a71"
      },
      "execution_count": 67,
      "outputs": [
        {
          "output_type": "stream",
          "name": "stdout",
          "text": [
            "<class 'list'>\n",
            "{'a': 0.6931471805599453,\n",
            " 'and': 1.3862943611198906,\n",
            " 'as': 1.3862943611198906,\n",
            " 'everywhere': 0.6931471805599453,\n",
            " 'fleece': 1.3862943611198906,\n",
            " 'go': 1.3862943611198906,\n",
            " 'had': 0.6931471805599453,\n",
            " 'lamb': 0.28768207245178085,\n",
            " 'little': 0.6931471805599453,\n",
            " 'mary': 0.0,\n",
            " 'snow': 1.3862943611198906,\n",
            " 'sure': 1.3862943611198906,\n",
            " 'that': 0.6931471805599453,\n",
            " 'the': 1.3862943611198906,\n",
            " 'to': 1.3862943611198906,\n",
            " 'was': 0.6931471805599453,\n",
            " 'went': 0.6931471805599453,\n",
            " 'white': 1.3862943611198906,\n",
            " 'whose': 1.3862943611198906}\n",
            "['a',\n",
            " 'as',\n",
            " 'and',\n",
            " 'everywhere',\n",
            " 'fleece',\n",
            " 'go',\n",
            " 'had',\n",
            " 'little',\n",
            " 'lamb',\n",
            " 'mary',\n",
            " 'snow',\n",
            " 'sure',\n",
            " 'that',\n",
            " 'the',\n",
            " 'to',\n",
            " 'whose',\n",
            " 'was',\n",
            " 'white',\n",
            " 'went']\n"
          ]
        }
      ]
    },
    {
      "cell_type": "code",
      "source": [
        "def tf_idf(corpus_words):\n",
        "    IDF = inv_doc_freq(corpus_words)\n",
        "\n",
        "    TFIDF = []\n",
        "\n",
        "    for document in corpus_words:\n",
        "         TFIDF.append(Counter(document))\n",
        "\n",
        "    for document in TFIDF:\n",
        "        for word in document:\n",
        "            document[word] = document[word] * IDF[word]\n",
        "    return TFIDF"
      ],
      "metadata": {
        "id": "eOrAL_mm2tTN"
      },
      "execution_count": 68,
      "outputs": []
    },
    {
      "cell_type": "code",
      "source": [
        "tf_idf(corpus_words)"
      ],
      "metadata": {
        "colab": {
          "base_uri": "https://localhost:8080/"
        },
        "id": "YvZxuiyL3OHx",
        "outputId": "ac7f2412-a792-407d-c9c2-77901e098de4"
      },
      "execution_count": 69,
      "outputs": [
        {
          "output_type": "stream",
          "name": "stdout",
          "text": [
            "<class 'list'>\n"
          ]
        },
        {
          "output_type": "execute_result",
          "data": {
            "text/plain": [
              "[Counter({'a': 0.6931471805599453,\n",
              "          'had': 0.6931471805599453,\n",
              "          'lamb': 0.8630462173553426,\n",
              "          'little': 2.0794415416798357,\n",
              "          'mary': 0.0}),\n",
              " Counter({'a': 0.6931471805599453,\n",
              "          'as': 1.3862943611198906,\n",
              "          'fleece': 1.3862943611198906,\n",
              "          'had': 0.6931471805599453,\n",
              "          'lamb': 0.28768207245178085,\n",
              "          'little': 0.6931471805599453,\n",
              "          'mary': 0.0,\n",
              "          'snow': 1.3862943611198906,\n",
              "          'was': 0.6931471805599453,\n",
              "          'white': 1.3862943611198906,\n",
              "          'whose': 1.3862943611198906}),\n",
              " Counter({'and': 1.3862943611198906,\n",
              "          'everywhere': 0.6931471805599453,\n",
              "          'mary': 0.0,\n",
              "          'that': 0.6931471805599453,\n",
              "          'went': 2.0794415416798357}),\n",
              " Counter({'everywhere': 0.6931471805599453,\n",
              "          'go': 1.3862943611198906,\n",
              "          'lamb': 0.28768207245178085,\n",
              "          'mary': 0.0,\n",
              "          'sure': 1.3862943611198906,\n",
              "          'that': 0.6931471805599453,\n",
              "          'the': 1.3862943611198906,\n",
              "          'to': 1.3862943611198906,\n",
              "          'was': 0.6931471805599453,\n",
              "          'went': 0.6931471805599453})]"
            ]
          },
          "metadata": {},
          "execution_count": 69
        }
      ]
    },
    {
      "cell_type": "code",
      "source": [
        "V = set('aeiouy')\n",
        "C = set('bcdfghjklmnpqrstvwxz')"
      ],
      "metadata": {
        "id": "XauxU7-f4rts"
      },
      "execution_count": 71,
      "outputs": []
    },
    {
      "cell_type": "code",
      "source": [
        "def get_stem(suffix, word):\n",
        "    # Extract the stem of a word\n",
        "\n",
        "    if word.lower().endswith(suffix.lower()):\n",
        "        return word[:-len(suffix)]\n",
        "    return None"
      ],
      "metadata": {
        "id": "8IG4DIaG44Xi"
      },
      "execution_count": 70,
      "outputs": []
    },
    {
      "cell_type": "code",
      "source": [
        "def measure(orig_word):\n",
        "    # \n",
        "    word = orig_word.lower()\n",
        "\n",
        "    optV = False\n",
        "    optC = False\n",
        "    VC = False\n",
        "    m = 0\n",
        "\n",
        "    pos = 0\n",
        "\n",
        "    while pos < len(word) and word[pos] in C:\n",
        "        pos += 1\n",
        "        optc = True\n",
        "\n",
        "    while pos < len(word):\n",
        "        while pos < len(word) and word[pos] in V:\n",
        "            pos += 1\n",
        "            optV = True\n",
        "\n",
        "        while pos < len(word) and word[pos] in C:\n",
        "            pos += 1\n",
        "            optV = False\n",
        "        if not optV:\n",
        "            m += 1\n",
        "    return m"
      ],
      "metadata": {
        "id": "UcC5bPwhrgnb"
      },
      "execution_count": 73,
      "outputs": []
    },
    {
      "cell_type": "code",
      "source": [
        "word = 'crepusculars'\n",
        "print(measure(word))"
      ],
      "metadata": {
        "colab": {
          "base_uri": "https://localhost:8080/"
        },
        "id": "2-APz2P2srsD",
        "outputId": "4ac18fd6-8673-4243-fd42-68283c7b66a7"
      },
      "execution_count": 74,
      "outputs": [
        {
          "output_type": "stream",
          "name": "stdout",
          "text": [
            "4\n"
          ]
        }
      ]
    },
    {
      "cell_type": "code",
      "source": [
        "def ends_with(char, stem):\n",
        "    return stem[-1] == char\n",
        "def double_consonant(stem):\n",
        "    if len(stem) < 2:\n",
        "        return False\n",
        "    if stem[-1] in C and stem[-2] == stem[-1]:\n",
        "        return True\n",
        "    return False\n",
        "def contains_vowel(stem):\n",
        "    return len(set(stem) & V) > 0"
      ],
      "metadata": {
        "id": "8Sl_3kHgs5pr"
      },
      "execution_count": 76,
      "outputs": []
    },
    {
      "cell_type": "code",
      "source": [
        "def apply_rule(condition, suffix, replacement, word):\n",
        "    # apply porter stemmer rule\n",
        "    # if condition is True replace suffix by replacement in word\n",
        "    stem = get_stem(suffix, word)\n",
        "    if stem is not None and condition is True:\n",
        "        word = stem\n",
        "\n",
        "        if replacement is not None:\n",
        "            word += replacement\n",
        "    return word"
      ],
      "metadata": {
        "id": "PfYDmFrJtlxw"
      },
      "execution_count": 80,
      "outputs": []
    },
    {
      "cell_type": "code",
      "source": [
        "word = 'plastered'\n",
        "suffix = 'ed'\n",
        "stem = get_stem(suffix, word)\n",
        "apply_rule(contains_vowel(stem), suffix, None, word)"
      ],
      "metadata": {
        "colab": {
          "base_uri": "https://localhost:8080/",
          "height": 35
        },
        "id": "2mFy0ZccuNsC",
        "outputId": "8d0b130e-497d-4d78-f52b-2919d06a51bc"
      },
      "execution_count": 81,
      "outputs": [
        {
          "output_type": "execute_result",
          "data": {
            "application/vnd.google.colaboratory.intrinsic+json": {
              "type": "string"
            },
            "text/plain": [
              "'plaster'"
            ]
          },
          "metadata": {},
          "execution_count": 81
        }
      ]
    },
    {
      "cell_type": "code",
      "source": [
        "word = 'bled'\n",
        "suffix = 'ed'\n",
        "stem = get_stem(suffix, word)\n",
        "apply_rule(contains_vowel(stem), suffix, None, word)"
      ],
      "metadata": {
        "colab": {
          "base_uri": "https://localhost:8080/",
          "height": 35
        },
        "id": "-WXtfIZeulkk",
        "outputId": "4f67cb1f-7ab3-4e4a-a53d-cd51df255036"
      },
      "execution_count": 83,
      "outputs": [
        {
          "output_type": "execute_result",
          "data": {
            "application/vnd.google.colaboratory.intrinsic+json": {
              "type": "string"
            },
            "text/plain": [
              "'bled'"
            ]
          },
          "metadata": {},
          "execution_count": 83
        }
      ]
    },
    {
      "cell_type": "code",
      "source": [
        "word = 'adoption'\n",
        "suffix = 'ion'\n",
        "stem = get_stem(suffix, word)\n",
        "apply_rule(measure(stem) > 1 and (ends_with('s', stem) or ends_with('t', stem)), suffix, None, word)"
      ],
      "metadata": {
        "colab": {
          "base_uri": "https://localhost:8080/",
          "height": 35
        },
        "id": "7hzTqQ42u2hZ",
        "outputId": "bc914557-9fbf-4186-c45b-cc319e75e569"
      },
      "execution_count": 84,
      "outputs": [
        {
          "output_type": "execute_result",
          "data": {
            "application/vnd.google.colaboratory.intrinsic+json": {
              "type": "string"
            },
            "text/plain": [
              "'adopt'"
            ]
          },
          "metadata": {},
          "execution_count": 84
        }
      ]
    }
  ]
}