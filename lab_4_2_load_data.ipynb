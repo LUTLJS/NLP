{
  "nbformat": 4,
  "nbformat_minor": 0,
  "metadata": {
    "colab": {
      "name": "lab-4-2-load-data.ipynb",
      "provenance": []
    },
    "kernelspec": {
      "name": "python3",
      "display_name": "Python 3"
    },
    "language_info": {
      "name": "python"
    }
  },
  "cells": [
    {
      "cell_type": "markdown",
      "source": [
        "We use elemental PyTorch to implement linear regression here. However, in most actual applications, abstractions such as <code>nn.Moudle</code> or <code>nn.Lienear</code> are used."
      ],
      "metadata": {
        "id": "p59SOvpUWP5E"
      }
    },
    {
      "cell_type": "code",
      "execution_count": null,
      "metadata": {
        "colab": {
          "base_uri": "https://localhost:8080/"
        },
        "id": "bFztcepsVw4V",
        "outputId": "5e1759ee-b36a-40a5-ec55-683b05cf54d3"
      },
      "outputs": [
        {
          "output_type": "stream",
          "name": "stdout",
          "text": [
            "[0, 1, 2, 3, 4]\n",
            "[2, 3]\n"
          ]
        }
      ],
      "source": [
        "nums = [0, 1, 2, 3 , 4]\n",
        "print(nums)\n",
        "print(nums[2: 4])"
      ]
    },
    {
      "cell_type": "code",
      "source": [
        "import numpy as np\n",
        "b = np.array([[1, 2, 3, 4], [5, 6, 7, 8], [9, 10, 11, 12]])\n",
        "print(b)\n",
        "print(b[:, :])\n",
        "print(b[1:2, 1:2])"
      ],
      "metadata": {
        "colab": {
          "base_uri": "https://localhost:8080/"
        },
        "id": "ezrCVBQdX6bg",
        "outputId": "d75b6ba1-79dd-46a9-d884-fbb6e381ab1d"
      },
      "execution_count": null,
      "outputs": [
        {
          "output_type": "stream",
          "name": "stdout",
          "text": [
            "[[ 1  2  3  4]\n",
            " [ 5  6  7  8]\n",
            " [ 9 10 11 12]]\n",
            "[[ 1  2  3  4]\n",
            " [ 5  6  7  8]\n",
            " [ 9 10 11 12]]\n",
            "[[6]]\n"
          ]
        }
      ]
    },
    {
      "cell_type": "code",
      "source": [
        "from google.colab import drive\n",
        "drive.mount('/content/drive')"
      ],
      "metadata": {
        "colab": {
          "base_uri": "https://localhost:8080/"
        },
        "id": "rP-kenUPK8b2",
        "outputId": "c3a0afcf-3550-46df-a84c-fc57d1b51915"
      },
      "execution_count": 2,
      "outputs": [
        {
          "metadata": {
            "tags": null
          },
          "name": "stdout",
          "output_type": "stream",
          "text": [
            "Mounted at /content/drive\n"
          ]
        }
      ]
    },
    {
      "cell_type": "code",
      "source": [
        "import numpy as np\n",
        "import pandas as pd\n",
        "xy = np.loadtxt('/content/drive/MyDrive/NLP/data-01-test-score.csv', delimiter=',', dtype=np.float32)\n",
        "data = pd.read_csv(filepath_or_buffer='/content/drive/MyDrive/NLP/data-01-test-score.csv')"
      ],
      "metadata": {
        "id": "AEQ1LBCeNO2R"
      },
      "execution_count": 14,
      "outputs": []
    },
    {
      "cell_type": "code",
      "source": [
        "print(type(xy))\n",
        "print(xy.shape)\n",
        "print(xy.size)\n",
        "print(xy)\n",
        "print(data.head())\n",
        "print(data.shape)"
      ],
      "metadata": {
        "colab": {
          "base_uri": "https://localhost:8080/"
        },
        "id": "VfmnhxSgNi9w",
        "outputId": "522fca38-1fb5-4e53-8318-57ed162fe58f"
      },
      "execution_count": 16,
      "outputs": [
        {
          "output_type": "stream",
          "name": "stdout",
          "text": [
            "<class 'numpy.ndarray'>\n",
            "(25, 4)\n",
            "100\n",
            "[[ 73.  80.  75. 152.]\n",
            " [ 93.  88.  93. 185.]\n",
            " [ 89.  91.  90. 180.]\n",
            " [ 96.  98. 100. 196.]\n",
            " [ 73.  66.  70. 142.]\n",
            " [ 53.  46.  55. 101.]\n",
            " [ 69.  74.  77. 149.]\n",
            " [ 47.  56.  60. 115.]\n",
            " [ 87.  79.  90. 175.]\n",
            " [ 79.  70.  88. 164.]\n",
            " [ 69.  70.  73. 141.]\n",
            " [ 70.  65.  74. 141.]\n",
            " [ 93.  95.  91. 184.]\n",
            " [ 79.  80.  73. 152.]\n",
            " [ 70.  73.  78. 148.]\n",
            " [ 93.  89.  96. 192.]\n",
            " [ 78.  75.  68. 147.]\n",
            " [ 81.  90.  93. 183.]\n",
            " [ 88.  92.  86. 177.]\n",
            " [ 78.  83.  77. 159.]\n",
            " [ 82.  86.  90. 177.]\n",
            " [ 86.  82.  89. 175.]\n",
            " [ 78.  83.  85. 175.]\n",
            " [ 76.  83.  71. 149.]\n",
            " [ 96.  93.  95. 192.]]\n",
            "   73  80   75  152\n",
            "0  93  88   93  185\n",
            "1  89  91   90  180\n",
            "2  96  98  100  196\n",
            "3  73  66   70  142\n",
            "4  53  46   55  101\n",
            "(24, 4)\n"
          ]
        }
      ]
    },
    {
      "cell_type": "code",
      "source": [
        "y_data = xy[: ,[-1]]\n",
        "print(y_data.shape)\n",
        "print(len(y_data))\n",
        "print(y_data[:5])\n",
        "print(y_data)"
      ],
      "metadata": {
        "colab": {
          "base_uri": "https://localhost:8080/"
        },
        "id": "ATAsITNmQJwU",
        "outputId": "9af26e21-e3a8-406a-a917-b6654125e7a0"
      },
      "execution_count": 19,
      "outputs": [
        {
          "output_type": "stream",
          "name": "stdout",
          "text": [
            "(25, 1)\n",
            "25\n",
            "[[152.]\n",
            " [185.]\n",
            " [180.]\n",
            " [196.]\n",
            " [142.]]\n",
            "[[152.]\n",
            " [185.]\n",
            " [180.]\n",
            " [196.]\n",
            " [142.]\n",
            " [101.]\n",
            " [149.]\n",
            " [115.]\n",
            " [175.]\n",
            " [164.]\n",
            " [141.]\n",
            " [141.]\n",
            " [184.]\n",
            " [152.]\n",
            " [148.]\n",
            " [192.]\n",
            " [147.]\n",
            " [183.]\n",
            " [177.]\n",
            " [159.]\n",
            " [177.]\n",
            " [175.]\n",
            " [175.]\n",
            " [149.]\n",
            " [192.]]\n"
          ]
        }
      ]
    },
    {
      "cell_type": "code",
      "source": [
        "x_data = xy[:, 0:-1]"
      ],
      "metadata": {
        "id": "skkAvtqKVlYD"
      },
      "execution_count": 21,
      "outputs": []
    },
    {
      "cell_type": "code",
      "source": [
        "import torch\n",
        "import torch.nn as nn\n",
        "import torch.nn.functional as F\n",
        "import torch.optim as optim"
      ],
      "metadata": {
        "id": "sFz21VYsUx7O"
      },
      "execution_count": 20,
      "outputs": []
    },
    {
      "cell_type": "code",
      "source": [
        "x_train = torch.FloatTensor(x_data)\n",
        "y_train = torch.FloatTensor(y_data)\n",
        "\n",
        "W = torch.zeros((3, 1), requires_grad=True)\n",
        "b = torch.zeros(1, requires_grad=True)\n",
        "\n",
        "optimizer = optim.SGD([W, b], lr=1e-5)\n",
        "\n",
        "nb_epochs = 20\n",
        "for epoch in range(nb_epochs + 1):\n",
        "    hypothesis = x_train.matmul(W) + b\n",
        "    cost = torch.mean((hypothesis - y_train) ** 2)\n",
        "\n",
        "    optimizer.zero_grad()\n",
        "    cost.backward()\n",
        "    optimizer.step()\n",
        "\n",
        "    print('Epoch {:4d}/{} Cost: {:.6f}'.format(epoch, nb_epochs, cost.item()))"
      ],
      "metadata": {
        "colab": {
          "base_uri": "https://localhost:8080/"
        },
        "id": "-1xA7OyWVQ35",
        "outputId": "6391c280-46e4-4a95-c8d8-5e74c3bfdc33"
      },
      "execution_count": 22,
      "outputs": [
        {
          "output_type": "stream",
          "name": "stdout",
          "text": [
            "Epoch    0/20 Cost: 26811.960938\n",
            "Epoch    1/20 Cost: 9920.530273\n",
            "Epoch    2/20 Cost: 3675.298340\n",
            "Epoch    3/20 Cost: 1366.260498\n",
            "Epoch    4/20 Cost: 512.542480\n",
            "Epoch    5/20 Cost: 196.896637\n",
            "Epoch    6/20 Cost: 80.190987\n",
            "Epoch    7/20 Cost: 37.038696\n",
            "Epoch    8/20 Cost: 21.081343\n",
            "Epoch    9/20 Cost: 15.178760\n",
            "Epoch   10/20 Cost: 12.993679\n",
            "Epoch   11/20 Cost: 12.183023\n",
            "Epoch   12/20 Cost: 11.880535\n",
            "Epoch   13/20 Cost: 11.765958\n",
            "Epoch   14/20 Cost: 11.720851\n",
            "Epoch   15/20 Cost: 11.701438\n",
            "Epoch   16/20 Cost: 11.691514\n",
            "Epoch   17/20 Cost: 11.685116\n",
            "Epoch   18/20 Cost: 11.680005\n",
            "Epoch   19/20 Cost: 11.675380\n",
            "Epoch   20/20 Cost: 11.670952\n"
          ]
        }
      ]
    },
    {
      "cell_type": "code",
      "source": [
        "class MultivariateLinearRegressionModel(nn.Module):\n",
        "    def __init__(self):\n",
        "        super().__init__()\n",
        "        self.linear = nn.Linear(3, 1)\n",
        "    def forward(self, x):\n",
        "        return self.linear(x)"
      ],
      "metadata": {
        "id": "KQ11G0TgX_Fb"
      },
      "execution_count": 23,
      "outputs": []
    },
    {
      "cell_type": "code",
      "source": [
        "x_train = torch.FloatTensor(x_data)\n",
        "y_train = torch.FloatTensor(y_data)\n",
        "model = MultivariateLinearRegressionModel()\n",
        "optimizer = optim.SGD(model.parameters(), lr=1e-5)\n",
        "nb_epochs = 20\n",
        "for epoch in range(nb_epochs + 1):\n",
        "    prediction = model(x_train)\n",
        "    cost = F.mse_loss(prediction, y_train)\n",
        "\n",
        "    optimizer.zero_grad()\n",
        "    cost.backward()\n",
        "    optimizer.step()\n",
        "\n",
        "    print(f'Epoch {epoch:4d}/{nb_epochs:.6f} Cost: {cost.item()}')"
      ],
      "metadata": {
        "id": "NbX-8mp7YVza",
        "outputId": "7843b310-ae11-4bcb-e0f4-6fc7f4dc9606",
        "colab": {
          "base_uri": "https://localhost:8080/"
        }
      },
      "execution_count": 24,
      "outputs": [
        {
          "output_type": "stream",
          "name": "stdout",
          "text": [
            "Epoch    0/20.000000 Cost: 27006.34765625\n",
            "Epoch    1/20.000000 Cost: 9993.474609375\n",
            "Epoch    2/20.000000 Cost: 3703.342529296875\n",
            "Epoch    3/20.000000 Cost: 1377.7034912109375\n",
            "Epoch    4/20.000000 Cost: 517.8475952148438\n",
            "Epoch    5/20.000000 Cost: 199.9321746826172\n",
            "Epoch    6/20.000000 Cost: 82.38700103759766\n",
            "Epoch    7/20.000000 Cost: 38.924530029296875\n",
            "Epoch    8/20.000000 Cost: 22.8522891998291\n",
            "Epoch    9/20.000000 Cost: 16.907072067260742\n",
            "Epoch   10/20.000000 Cost: 14.706093788146973\n",
            "Epoch   11/20.000000 Cost: 13.889427185058594\n",
            "Epoch   12/20.000000 Cost: 13.584648132324219\n",
            "Epoch   13/20.000000 Cost: 13.46911334991455\n",
            "Epoch   14/20.000000 Cost: 13.423510551452637\n",
            "Epoch   15/20.000000 Cost: 13.403780937194824\n",
            "Epoch   16/20.000000 Cost: 13.393638610839844\n",
            "Epoch   17/20.000000 Cost: 13.387019157409668\n",
            "Epoch   18/20.000000 Cost: 13.381743431091309\n",
            "Epoch   19/20.000000 Cost: 13.376914024353027\n",
            "Epoch   20/20.000000 Cost: 13.372291564941406\n"
          ]
        }
      ]
    }
  ]
}